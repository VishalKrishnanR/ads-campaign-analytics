{
 "cells": [
  {
   "cell_type": "code",
   "execution_count": 0,
   "metadata": {
    "application/vnd.databricks.v1+cell": {
     "cellMetadata": {
      "byteLimit": 2048000,
      "rowLimit": 10000
     },
     "inputWidgets": {},
     "nuid": "bcfcec0d-cea0-488f-9618-234f490ea984",
     "showTitle": false,
     "tableResultSettingsMap": {},
     "title": ""
    }
   },
   "outputs": [],
   "source": [
    "%run /Workspace/Users/vishal.krishnan@neudesic.com/Bronze_to_Silver/utils"
   ]
  },
  {
   "cell_type": "code",
   "execution_count": 0,
   "metadata": {
    "application/vnd.databricks.v1+cell": {
     "cellMetadata": {
      "byteLimit": 2048000,
      "rowLimit": 10000
     },
     "inputWidgets": {},
     "nuid": "137a3348-81fa-4a8e-8cdf-506330969894",
     "showTitle": false,
     "tableResultSettingsMap": {},
     "title": ""
    }
   },
   "outputs": [],
   "source": [
    "##  Web Analytics \n",
    "df_web = spark.read.format(\"delta\").load(bronze_base + \"Web_analytics\").drop(\"_rescued_data\")\n",
    "df_web = clean_common(df_web).dropDuplicates([\"session_id\"])\n",
    "date_format = \"M/d/yyyy\"\n",
    "\n",
    "\n",
    "df_web = df_web.select(\n",
    "    col(\"session_id\"),\n",
    "    col(\"campaign_id\"),\n",
    "    col(\"campaign_name\"),\n",
    "    to_date(col(\"campaign_start_date\"), date_format).alias(\"campaign_start_date\"),\n",
    "    to_date(col(\"campaign_end_date\"), date_format).alias(\"campaign_end_date\"),\n",
    "    to_timestamp(\"session_start\").alias(\"session_start\"),\n",
    "    to_timestamp(\"session_end\").alias(\"session_end\"),\n",
    "    col(\"bounce\").cast(BooleanType()).alias(\"bounce\"),\n",
    "    col(\"signed_up\").cast(BooleanType()).alias(\"signed_up\"),\n",
    "    col(\"purchased\").cast(BooleanType()).alias(\"purchased\"),\n",
    "    col(\"revenue\").cast(DoubleType()).alias(\"revenue\"),\n",
    "    col(\"user_id\"),\n",
    "    col(\"age\").cast(IntegerType()).alias(\"age\"),\n",
    "    col(\"gender\"),\n",
    "    col(\"region\"),\n",
    "    current_timestamp().alias(\"ingestion_timestamp\"),\n",
    "    lit(current_user).alias(\"modified_by\")\n",
    ")\n",
    "\n",
    "df_web = df_web.dropna(how=\"any\")\n",
    "display(df_web)\n",
    "df_web.write.mode(\"overwrite\").format(\"delta\").save(silver_base + \"Web_analytics\")"
   ]
  }
 ],
 "metadata": {
  "application/vnd.databricks.v1+notebook": {
   "computePreferences": null,
   "dashboards": [],
   "environmentMetadata": {
    "base_environment": "",
    "environment_version": "2"
   },
   "inputWidgetPreferences": null,
   "language": "python",
   "notebookMetadata": {
    "pythonIndentUnit": 4
   },
   "notebookName": "web_bronze_to_silver",
   "widgets": {}
  },
  "language_info": {
   "name": "python"
  }
 },
 "nbformat": 4,
 "nbformat_minor": 0
}
