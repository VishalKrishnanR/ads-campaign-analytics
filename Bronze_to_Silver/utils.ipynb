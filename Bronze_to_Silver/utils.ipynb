{
 "cells": [
  {
   "cell_type": "code",
   "execution_count": 0,
   "metadata": {
    "application/vnd.databricks.v1+cell": {
     "cellMetadata": {},
     "inputWidgets": {},
     "nuid": "27f14912-6c86-42b9-a94c-b97b0300803d",
     "showTitle": false,
     "tableResultSettingsMap": {},
     "title": ""
    }
   },
   "outputs": [],
   "source": [
    "from pyspark.sql.functions import *\n",
    "from pyspark.sql.types import DoubleType, IntegerType, BooleanType, TimestampType, DateType\n",
    "\n",
    "\n",
    "def clean_common(df):\n",
    "    # Trim string columns\n",
    "    string_cols = [f.name for f in df.schema.fields if f.dataType == StringType()]\n",
    "    for col_name in string_cols:\n",
    "        df = df.withColumn(col_name, trim(col(col_name)))\n",
    "    \n",
    "    # Replace \"null\", \"n/a\", \"N/A\", \"\" with actual nulls\n",
    "    for col_name in df.columns:\n",
    "        df = df.withColumn(\n",
    "            col_name, \n",
    "            when(col(col_name).cast(\"string\").isin(\"null\", \"n/a\", \"N/A\", \"\"), None)\n",
    "            .otherwise(col(col_name))\n",
    "        )\n",
    "\n",
    "    return df\n",
    "\n",
    "\n",
    "# Define paths\n",
    "storage_account_name = \"adcampaigndata\"\n",
    "bronze_container = \"bronze\"\n",
    "silver_container = \"silver\"\n",
    "\n",
    "spark.conf.set(\n",
    "  f\"fs.azure.account.key.{storage_account_name}.dfs.core.windows.net\",\n",
    "  dbutils.secrets.get(scope=\"adls-creds\", key=\"storage-key\")\n",
    ")\n",
    "bronze_base = f\"abfss://{bronze_container}@{storage_account_name}.dfs.core.windows.net/\"\n",
    "silver_base = f\"abfss://{silver_container}@{storage_account_name}.dfs.core.windows.net/\"\n",
    "\n",
    "current_user = dbutils.notebook.entry_point.getDbutils().notebook().getContext().tags().apply('user')"
   ]
  }
 ],
 "metadata": {
  "application/vnd.databricks.v1+notebook": {
   "computePreferences": null,
   "dashboards": [],
   "environmentMetadata": {
    "base_environment": "",
    "environment_version": "2"
   },
   "inputWidgetPreferences": null,
   "language": "python",
   "notebookMetadata": {
    "pythonIndentUnit": 4
   },
   "notebookName": "utils",
   "widgets": {}
  },
  "language_info": {
   "name": "python"
  }
 },
 "nbformat": 4,
 "nbformat_minor": 0
}
