{
 "cells": [
  {
   "cell_type": "code",
   "execution_count": 0,
   "metadata": {
    "application/vnd.databricks.v1+cell": {
     "cellMetadata": {
      "byteLimit": 2048000,
      "rowLimit": 10000
     },
     "inputWidgets": {},
     "nuid": "d8512daa-4e3d-469d-a060-ee904a7a1db2",
     "showTitle": false,
     "tableResultSettingsMap": {},
     "title": ""
    }
   },
   "outputs": [],
   "source": [
    "%run /Workspace/Users/vishal.krishnan@neudesic.com/Bronze_to_Silver/utils"
   ]
  },
  {
   "cell_type": "code",
   "execution_count": 0,
   "metadata": {
    "application/vnd.databricks.v1+cell": {
     "cellMetadata": {
      "byteLimit": 2048000,
      "rowLimit": 10000
     },
     "inputWidgets": {},
     "nuid": "211c0f8d-9eab-4fd5-9e7c-6c8e75d8b90b",
     "showTitle": false,
     "tableResultSettingsMap": {},
     "title": ""
    }
   },
   "outputs": [],
   "source": [
    "##  YouTube Ads\n",
    "df_yt = spark.read.format(\"delta\").load(bronze_base + \"Youtube_ads\").drop(\"_rescued_data\")\n",
    "df_yt = clean_common(df_yt).dropDuplicates([\"ad_id\", \"day\"])\n",
    "date_format = \"M/d/yyyy\" \n",
    "\n",
    "\n",
    "df_yt = df_yt.select(\n",
    "    col(\"ad_id\"),\n",
    "    col(\"campaign_id\"),\n",
    "    col(\"campaign_name\"),\n",
    "    to_date(col(\"campaign_start_date\"), date_format).alias(\"campaign_start_date\"),\n",
    "    to_date(col(\"campaign_end_date\"), date_format).alias(\"campaign_end_date\"),\n",
    "    to_date(col(\"day\"), date_format).alias(\"date\"),\n",
    "    col(\"impressions\").cast(IntegerType()).alias(\"impressions\"),\n",
    "    col(\"reach\").cast(IntegerType()).alias(\"reach\"),\n",
    "    col(\"clicks\").cast(IntegerType()).alias(\"clicks\"),\n",
    "    col(\"link_clicks\").cast(IntegerType()).alias(\"link_clicks\"),\n",
    "    col(\"likes\").cast(IntegerType()).alias(\"likes\"),\n",
    "    col(\"shares\").cast(IntegerType()).alias(\"shares\"),\n",
    "    col(\"comments\").cast(IntegerType()).alias(\"comments\"),\n",
    "    col(\"conversions\").cast(IntegerType()).alias(\"conversions\"),\n",
    "    col(\"estimated_revenue\").cast(DoubleType()).alias(\"estimated_revenue\"),\n",
    "    current_timestamp().alias(\"ingestion_timestamp\")\n",
    ")\n",
    "df_yt = df_yt.dropna(how=\"any\")\n",
    "display(df_yt)\n",
    "df_yt.write.mode(\"overwrite\").option(\"mergeSchema\", \"true\").format(\"delta\").save(silver_base + \"Youtube_ads\")"
   ]
  }
 ],
 "metadata": {
  "application/vnd.databricks.v1+notebook": {
   "computePreferences": null,
   "dashboards": [],
   "environmentMetadata": {
    "base_environment": "",
    "environment_version": "2"
   },
   "inputWidgetPreferences": null,
   "language": "python",
   "notebookMetadata": {
    "pythonIndentUnit": 4
   },
   "notebookName": "youtube_bronze_to_silver",
   "widgets": {}
  },
  "language_info": {
   "name": "python"
  }
 },
 "nbformat": 4,
 "nbformat_minor": 0
}
