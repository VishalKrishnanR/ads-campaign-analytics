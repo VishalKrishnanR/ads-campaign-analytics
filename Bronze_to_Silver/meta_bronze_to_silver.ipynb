{
 "cells": [
  {
   "cell_type": "code",
   "execution_count": 0,
   "metadata": {
    "application/vnd.databricks.v1+cell": {
     "cellMetadata": {
      "byteLimit": 2048000,
      "rowLimit": 10000
     },
     "inputWidgets": {},
     "nuid": "ec64ad68-7df1-48e0-b9f5-3c92f5d9f940",
     "showTitle": false,
     "tableResultSettingsMap": {},
     "title": ""
    }
   },
   "outputs": [],
   "source": [
    "%run /Workspace/Users/vishal.krishnan@neudesic.com/Bronze_to_Silver/utils"
   ]
  },
  {
   "cell_type": "code",
   "execution_count": 0,
   "metadata": {
    "application/vnd.databricks.v1+cell": {
     "cellMetadata": {
      "byteLimit": 2048000,
      "rowLimit": 10000
     },
     "inputWidgets": {},
     "nuid": "02afbf50-bfad-4297-93bd-5fa6f36b5649",
     "showTitle": false,
     "tableResultSettingsMap": {},
     "title": ""
    }
   },
   "outputs": [],
   "source": [
    "from pyspark.sql.functions import to_date\n",
    "\n",
    "# Meta ads\n",
    "\n",
    "df_meta = spark.read.format(\"delta\").load(bronze_base + \"Meta_ads\").drop(\"_rescued_data\")\n",
    "df_meta = clean_common(df_meta).dropDuplicates([\"ad_id\", \"date\", \"platform_name\"])\n",
    "date_format = \"M/d/yyyy\" \n",
    "\n",
    "df_meta = df_meta.select(\n",
    "    col(\"ad_id\"),\n",
    "    col(\"campaign_id\"),\n",
    "    col(\"campaign_name\"),\n",
    "    col(\"platform_name\"),\n",
    "    to_date(col(\"campaign_start_date\"), date_format).alias(\"campaign_start_date\"),\n",
    "    to_date(col(\"campaign_end_date\"), date_format).alias(\"campaign_end_date\"),\n",
    "    to_date(col(\"date\"), date_format).alias(\"date\"),\n",
    "    col(\"impressions\").cast(IntegerType()).alias(\"impressions\"),\n",
    "    col(\"reach\").cast(IntegerType()).alias(\"reach\"),\n",
    "    col(\"clicks\").cast(IntegerType()).alias(\"clicks\"),\n",
    "    col(\"likes\").cast(IntegerType()).alias(\"likes\"),\n",
    "    col(\"comments\").cast(IntegerType()).alias(\"comments\"),\n",
    "    col(\"shares\").cast(IntegerType()).alias(\"shares\"),\n",
    "    col(\"link_clicks\").cast(IntegerType()).alias(\"link_clicks\"),\n",
    "    col(\"click_through_rate\").cast(DoubleType()).alias(\"click_through_rate\"),\n",
    "    col(\"conversions\").cast(IntegerType()).alias(\"conversions\"),\n",
    "    col(\"ad_spend\").cast(DoubleType()).alias(\"ad_spend\"),\n",
    "    current_timestamp().alias(\"ingestion_timestamp\"),\n",
    "    lit(current_user).alias(\"modified_by\")\n",
    ")\n",
    "\n",
    "df_meta = df_meta.dropna(how=\"any\")\n",
    "display(df_meta)\n",
    "df_meta.write.mode(\"overwrite\").format(\"delta\").save(silver_base + \"Meta_ads\")"
   ]
  }
 ],
 "metadata": {
  "application/vnd.databricks.v1+notebook": {
   "computePreferences": null,
   "dashboards": [],
   "environmentMetadata": {
    "base_environment": "",
    "environment_version": "2"
   },
   "inputWidgetPreferences": null,
   "language": "python",
   "notebookMetadata": {
    "pythonIndentUnit": 4
   },
   "notebookName": "meta_bronze_to_silver",
   "widgets": {}
  },
  "language_info": {
   "name": "python"
  }
 },
 "nbformat": 4,
 "nbformat_minor": 0
}
