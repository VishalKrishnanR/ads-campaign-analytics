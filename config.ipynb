{
 "cells": [
  {
   "cell_type": "code",
   "execution_count": 0,
   "metadata": {
    "application/vnd.databricks.v1+cell": {
     "cellMetadata": {},
     "inputWidgets": {},
     "nuid": "9c0bacf1-4c42-4141-9499-a43afd4337d7",
     "showTitle": false,
     "tableResultSettingsMap": {},
     "title": ""
    }
   },
   "outputs": [],
   "source": [
    "import os, json\n",
    " \n",
    "base_path = r\"C:\\Capstone_Project\"\n",
    "json_path = os.path.join(base_path, \"config.json\")\n",
    " \n",
    "folders = [\"Meta_ads\", \"Youtube_ads\", \"Web_analytics\"]\n",
    "flat_list = []\n",
    " \n",
    "if os.path.exists(json_path):\n",
    "    with open(json_path, \"r\") as f:\n",
    "        tracking = json.load(f)\n",
    "else:\n",
    "    tracking = {\"processed\": {}, \"to_be_processed\": {}, \"flat_list\": []}\n",
    " \n",
    "for folder in folders:\n",
    "    folder_path = os.path.join(base_path, folder)\n",
    "    files_in_folder = set(os.listdir(folder_path))\n",
    "    processed = set(tracking[\"processed\"].get(folder, []))\n",
    "    new_files = list(files_in_folder - processed)\n",
    " \n",
    "    tracking[\"to_be_processed\"][folder] = new_files\n",
    " \n",
    "    for f in new_files:\n",
    "        flat_list.append({\"folder\": folder, \"filename\": f})\n",
    " \n",
    "tracking[\"flat_list\"] = flat_list\n",
    " \n",
    "with open(json_path, \"w\") as f:\n",
    "    json.dump(tracking, f, indent=4)"
   ]
  }
 ],
 "metadata": {
  "application/vnd.databricks.v1+notebook": {
   "computePreferences": null,
   "dashboards": [],
   "environmentMetadata": {
    "base_environment": "",
    "environment_version": "2"
   },
   "inputWidgetPreferences": null,
   "language": "python",
   "notebookMetadata": {
    "pythonIndentUnit": 4
   },
   "notebookName": "config",
   "widgets": {}
  },
  "language_info": {
   "name": "python"
  }
 },
 "nbformat": 4,
 "nbformat_minor": 0
}
