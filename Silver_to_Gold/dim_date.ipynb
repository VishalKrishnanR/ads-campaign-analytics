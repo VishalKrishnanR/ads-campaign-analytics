{
 "cells": [
  {
   "cell_type": "code",
   "execution_count": 0,
   "metadata": {
    "application/vnd.databricks.v1+cell": {
     "cellMetadata": {
      "byteLimit": 2048000,
      "rowLimit": 10000
     },
     "inputWidgets": {},
     "nuid": "c74c461e-3319-48cd-acb8-70f43c31427c",
     "showTitle": false,
     "tableResultSettingsMap": {},
     "title": ""
    }
   },
   "outputs": [],
   "source": [
    "%run /Workspace/Users/vishal.krishnan@neudesic.com/Silver_to_Gold/utils"
   ]
  },
  {
   "cell_type": "code",
   "execution_count": 0,
   "metadata": {
    "application/vnd.databricks.v1+cell": {
     "cellMetadata": {
      "byteLimit": 2048000,
      "rowLimit": 10000
     },
     "inputWidgets": {},
     "nuid": "3d9bf6b2-59bd-489c-a332-29bea0ec8e76",
     "showTitle": false,
     "tableResultSettingsMap": {},
     "title": ""
    }
   },
   "outputs": [],
   "source": [
    "# dim_date\n",
    "from datetime import datetime, timedelta\n",
    "start_date = datetime(2020, 1, 1)\n",
    "end_date = datetime(2024, 12, 1)\n",
    "date_rows = []\n",
    "current = start_date\n",
    "while current <= end_date:\n",
    "    date_rows.append((current.strftime(\"%Y-%m-%d\"), current.day, current.month, current.strftime(\"%b\"),\n",
    "                      f\"Q{((current.month - 1) // 3) + 1}\", current.year, current.strftime(\"%A\")))\n",
    "    current += timedelta(days=1)\n",
    "dim_date_df = spark.createDataFrame(date_rows, [\"date_key\", \"day\", \"month\", \"month_name\", \"quarter\", \"year\", \"day_of_week\"])\n",
    "dim_date_df = dim_date_df.withColumn(\"date_key\", col(\"date_key\").cast(\"date\"))\n",
    "\n",
    "upsert_to_delta(dim_date_df, \"dim_date\", [\"date_key\"], zorder_cols=[\"date_key\"])\n"
   ]
  }
 ],
 "metadata": {
  "application/vnd.databricks.v1+notebook": {
   "computePreferences": null,
   "dashboards": [],
   "environmentMetadata": {
    "base_environment": "",
    "environment_version": "2"
   },
   "inputWidgetPreferences": null,
   "language": "python",
   "notebookMetadata": {
    "pythonIndentUnit": 4
   },
   "notebookName": "dim_date",
   "widgets": {}
  },
  "language_info": {
   "name": "python"
  }
 },
 "nbformat": 4,
 "nbformat_minor": 0
}
