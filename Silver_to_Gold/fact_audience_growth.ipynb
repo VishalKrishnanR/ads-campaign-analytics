{
 "cells": [
  {
   "cell_type": "code",
   "execution_count": 0,
   "metadata": {
    "application/vnd.databricks.v1+cell": {
     "cellMetadata": {
      "byteLimit": 2048000,
      "rowLimit": 10000
     },
     "inputWidgets": {},
     "nuid": "809a9e32-b216-4f64-ba7b-d71aeee17ce6",
     "showTitle": false,
     "tableResultSettingsMap": {},
     "title": ""
    }
   },
   "outputs": [],
   "source": [
    "%run /Workspace/Users/vishal.krishnan@neudesic.com/Silver_to_Gold/utils"
   ]
  },
  {
   "cell_type": "code",
   "execution_count": 0,
   "metadata": {
    "application/vnd.databricks.v1+cell": {
     "cellMetadata": {
      "byteLimit": 2048000,
      "rowLimit": 10000
     },
     "inputWidgets": {},
     "nuid": "895cd88f-ff94-4552-b986-d00b850acd12",
     "showTitle": false,
     "tableResultSettingsMap": {},
     "title": ""
    }
   },
   "outputs": [],
   "source": [
    "# fact_audience_growth\n",
    "audience_growth = df_web \\\n",
    "    .withColumn(\"date\", col(\"session_start\")) \\\n",
    "    .withColumn(\"user_id\", col(\"user_id\")) \\\n",
    "    .groupBy(\"campaign_id\", \"date\") \\\n",
    "    .agg(countDistinct(\"user_id\").alias(\"engaged_users\"))\n",
    "\n",
    "display(audience_growth)\n",
    "\n",
    "upsert_to_delta(audience_growth, \"fact_audience_growth\", [\"user_id\", \"campaign_id\", \"date\"],\n",
    "                zorder_cols=[\"campaign_id\", \"date\"])\n"
   ]
  }
 ],
 "metadata": {
  "application/vnd.databricks.v1+notebook": {
   "computePreferences": null,
   "dashboards": [],
   "environmentMetadata": {
    "base_environment": "",
    "environment_version": "2"
   },
   "inputWidgetPreferences": null,
   "language": "python",
   "notebookMetadata": {
    "pythonIndentUnit": 4
   },
   "notebookName": "fact_audience_growth",
   "widgets": {}
  },
  "language_info": {
   "name": "python"
  }
 },
 "nbformat": 4,
 "nbformat_minor": 0
}
