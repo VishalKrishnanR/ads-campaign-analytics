{
 "cells": [
  {
   "cell_type": "code",
   "execution_count": 0,
   "metadata": {
    "application/vnd.databricks.v1+cell": {
     "cellMetadata": {
      "byteLimit": 2048000,
      "rowLimit": 10000
     },
     "inputWidgets": {},
     "nuid": "6190f0c9-111c-493c-b94d-4e148681dc13",
     "showTitle": false,
     "tableResultSettingsMap": {},
     "title": ""
    }
   },
   "outputs": [],
   "source": [
    "%run /Workspace/Users/vishal.krishnan@neudesic.com/Silver_to_Gold/utils"
   ]
  },
  {
   "cell_type": "code",
   "execution_count": 0,
   "metadata": {
    "application/vnd.databricks.v1+cell": {
     "cellMetadata": {
      "byteLimit": 2048000,
      "rowLimit": 10000
     },
     "inputWidgets": {},
     "nuid": "2226091e-a1a0-4c18-ae0a-670a7b6dc664",
     "showTitle": false,
     "tableResultSettingsMap": {},
     "title": ""
    }
   },
   "outputs": [],
   "source": [
    "from pyspark.sql.functions import lit, col, to_date, count, sum, when, countDistinct, expr\n",
    "\n",
    "# fact_engagement_metrics\n",
    "engagement_df = df_youtube.select(\"campaign_id\", \"date\", \"impressions\", \"reach\", \"clicks\", \"link_clicks\", \"conversions\", \"likes\", \"shares\", \"comments\") \\\n",
    "    .withColumn(\"platform_id\", lit(103)) \\\n",
    "    .withColumnRenamed(\"date\", \"engagement_date\")\n",
    "\n",
    "meta_engage = df_meta.select(\"campaign_id\", \"date\", \"impressions\", \"reach\", \"clicks\", \"link_clicks\", \"likes\", \"comments\", \"shares\", \"conversions\", \"ad_spend\", \"platform_name\") \\\n",
    "    .withColumn(\"platform_id\", expr(\"case when lower(platform_name) = 'facebook' then 101 when lower(platform_name) = 'instagram' then 102 else null end\")) \\\n",
    "    .withColumnRenamed(\"date\", \"engagement_date\")\n",
    "\n",
    "fact_engagement = engagement_df.unionByName(meta_engage.select(\"campaign_id\", \"engagement_date\", \"impressions\", \"reach\", \"clicks\", \"link_clicks\", \"likes\", \"shares\", \"comments\", \"conversions\", \"platform_id\"))\n",
    "fact_engagement = fact_engagement.join(df_web.groupBy(\"campaign_id\", to_date(\"session_start\").alias(\"engagement_date\")) \\\n",
    "    .agg(\n",
    "        count(\"session_id\").alias(\"sessions\"),\n",
    "        sum(when(col(\"bounce\") == True, 1).otherwise(0)).alias(\"bounces\"),\n",
    "        countDistinct(\"session_id\").alias(\"unique_users\"),\n",
    "        sum(\"revenue\").alias(\"total_ad_spend\")\n",
    "    ), on=[\"campaign_id\", \"engagement_date\"], how=\"left\")\n",
    "\n",
    "fact_engagement = fact_engagement.fillna(0)\n",
    "\n",
    "display(fact_engagement)\n",
    "\n",
    "upsert_to_delta(fact_engagement, \"fact_engagement_metrics\", [\"campaign_id\", \"platform_id\", \"engagement_date\"],\n",
    "                zorder_cols=[\"campaign_id\", \"platform_id\", \"engagement_date\"])"
   ]
  }
 ],
 "metadata": {
  "application/vnd.databricks.v1+notebook": {
   "computePreferences": null,
   "dashboards": [],
   "environmentMetadata": {
    "base_environment": "",
    "environment_version": "2"
   },
   "inputWidgetPreferences": null,
   "language": "python",
   "notebookMetadata": {
    "pythonIndentUnit": 4
   },
   "notebookName": "fact_engagement_metrics",
   "widgets": {}
  },
  "language_info": {
   "name": "python"
  }
 },
 "nbformat": 4,
 "nbformat_minor": 0
}
