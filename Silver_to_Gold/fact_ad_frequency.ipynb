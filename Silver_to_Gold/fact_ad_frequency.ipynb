{
 "cells": [
  {
   "cell_type": "code",
   "execution_count": 0,
   "metadata": {
    "application/vnd.databricks.v1+cell": {
     "cellMetadata": {
      "byteLimit": 2048000,
      "rowLimit": 10000
     },
     "inputWidgets": {},
     "nuid": "a44abc7d-b445-4b3d-9520-0fbac10b2b9b",
     "showTitle": false,
     "tableResultSettingsMap": {},
     "title": ""
    }
   },
   "outputs": [],
   "source": [
    "%run /Workspace/Users/vishal.krishnan@neudesic.com/Silver_to_Gold/utils"
   ]
  },
  {
   "cell_type": "code",
   "execution_count": 0,
   "metadata": {
    "application/vnd.databricks.v1+cell": {
     "cellMetadata": {
      "byteLimit": 2048000,
      "rowLimit": 10000
     },
     "inputWidgets": {},
     "nuid": "a9fb4a75-4ed0-416a-b33e-16b9a4029325",
     "showTitle": false,
     "tableResultSettingsMap": {},
     "title": ""
    }
   },
   "outputs": [],
   "source": [
    "# fact_ad_frequency\n",
    "ad_frequency = df_web.select(\n",
    "    col(\"user_id\"),\n",
    "    col(\"campaign_id\"),\n",
    "    col(\"signed_up\").alias(\"engagement\"),\n",
    "    lit(1).alias(\"impressions\"),\n",
    "    col(\"session_id\")\n",
    ").groupBy(\"user_id\", \"campaign_id\", \"engagement\") \\\n",
    " .agg(count(\"session_id\").alias(\"impressions\"))\n",
    "\n",
    "display(ad_frequency)\n",
    "upsert_to_delta(ad_frequency, \"fact_ad_frequency\", [\"user_id\", \"campaign_id\", \"platform_id\"],\n",
    "                zorder_cols=[\"user_id\", \"campaign_id\"])\n"
   ]
  }
 ],
 "metadata": {
  "application/vnd.databricks.v1+notebook": {
   "computePreferences": null,
   "dashboards": [],
   "environmentMetadata": {
    "base_environment": "",
    "environment_version": "2"
   },
   "inputWidgetPreferences": null,
   "language": "python",
   "notebookMetadata": {
    "pythonIndentUnit": 4
   },
   "notebookName": "fact_ad_frequency",
   "widgets": {}
  },
  "language_info": {
   "name": "python"
  }
 },
 "nbformat": 4,
 "nbformat_minor": 0
}
