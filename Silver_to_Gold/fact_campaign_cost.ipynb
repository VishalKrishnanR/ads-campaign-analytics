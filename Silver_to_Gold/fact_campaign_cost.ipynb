{
 "cells": [
  {
   "cell_type": "code",
   "execution_count": 0,
   "metadata": {
    "application/vnd.databricks.v1+cell": {
     "cellMetadata": {
      "byteLimit": 2048000,
      "rowLimit": 10000
     },
     "inputWidgets": {},
     "nuid": "565953ea-b86d-49a5-a1c7-99ce792fe518",
     "showTitle": false,
     "tableResultSettingsMap": {},
     "title": ""
    }
   },
   "outputs": [],
   "source": [
    "%run /Workspace/Users/vishal.krishnan@neudesic.com/Silver_to_Gold/utils"
   ]
  },
  {
   "cell_type": "code",
   "execution_count": 0,
   "metadata": {
    "application/vnd.databricks.v1+cell": {
     "cellMetadata": {
      "byteLimit": 2048000,
      "rowLimit": 10000
     },
     "inputWidgets": {},
     "nuid": "b64d806d-39fb-4cff-8028-f706b84d6ae0",
     "showTitle": false,
     "tableResultSettingsMap": {},
     "title": ""
    }
   },
   "outputs": [],
   "source": [
    "# fact_campaign_cost\n",
    "meta_cost = df_meta.select(\"campaign_id\", \"date\", \"platform_name\", \"ad_spend\", \"clicks\", \"conversions\", \"likes\", \"comments\", \"shares\") \\\n",
    "    .withColumn(\"total_engagement\", col(\"likes\") + col(\"comments\") + col(\"shares\")) \\\n",
    "    .withColumn(\"platform_id\", expr(\"case when lower(platform_name) = 'facebook' then 101 when lower(platform_name) = 'instagram' then 102 else null end\")) \\\n",
    "    .withColumnRenamed(\"date\", \"cost_date\")\n",
    "\n",
    "youtube_cost = df_youtube.select(\"campaign_id\", \"date\", \"estimated_revenue\", \"clicks\", \"conversions\", \"likes\", \"comments\", \"shares\") \\\n",
    "    .withColumn(\"total_engagement\", col(\"likes\") + col(\"comments\") + col(\"shares\")) \\\n",
    "    .withColumn(\"platform_id\", lit(103)) \\\n",
    "    .withColumnRenamed(\"date\", \"cost_date\") \\\n",
    "    .withColumnRenamed(\"estimated_revenue\", \"ad_spend\")\n",
    "fact_cost = meta_cost.select(\"campaign_id\", \"platform_id\", \"cost_date\", \"ad_spend\", \"clicks\", \"conversions\", \"total_engagement\") \\\n",
    "    .unionByName(youtube_cost.select(\"campaign_id\", \"platform_id\", \"cost_date\", \"ad_spend\", \"clicks\", \"conversions\", \"total_engagement\"))\n",
    "\n",
    "upsert_to_delta(fact_cost, \"fact_campaign_cost\", [\"campaign_id\", \"platform_id\", \"cost_date\"],\n",
    "                zorder_cols=[\"campaign_id\", \"platform_id\", \"cost_date\"])"
   ]
  }
 ],
 "metadata": {
  "application/vnd.databricks.v1+notebook": {
   "computePreferences": null,
   "dashboards": [],
   "environmentMetadata": {
    "base_environment": "",
    "environment_version": "2"
   },
   "inputWidgetPreferences": null,
   "language": "python",
   "notebookMetadata": {
    "pythonIndentUnit": 4
   },
   "notebookName": "fact_campaign_cost",
   "widgets": {}
  },
  "language_info": {
   "name": "python"
  }
 },
 "nbformat": 4,
 "nbformat_minor": 0
}
