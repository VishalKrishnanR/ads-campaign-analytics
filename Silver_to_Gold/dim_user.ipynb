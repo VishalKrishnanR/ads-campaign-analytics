{
 "cells": [
  {
   "cell_type": "code",
   "execution_count": 0,
   "metadata": {
    "application/vnd.databricks.v1+cell": {
     "cellMetadata": {
      "byteLimit": 2048000,
      "rowLimit": 10000
     },
     "inputWidgets": {},
     "nuid": "139b3e51-6c60-4fe9-b4f0-771097032d7e",
     "showTitle": false,
     "tableResultSettingsMap": {},
     "title": ""
    }
   },
   "outputs": [],
   "source": [
    "%run /Workspace/Users/vishal.krishnan@neudesic.com/Silver_to_Gold/utils"
   ]
  },
  {
   "cell_type": "code",
   "execution_count": 0,
   "metadata": {
    "application/vnd.databricks.v1+cell": {
     "cellMetadata": {
      "byteLimit": 2048000,
      "rowLimit": 10000
     },
     "inputWidgets": {},
     "nuid": "5d53ae75-59e8-432e-bc37-fea4584ef9f9",
     "showTitle": false,
     "tableResultSettingsMap": {},
     "title": ""
    }
   },
   "outputs": [],
   "source": [
    "# dim_user\n",
    "\n",
    "user_df = df_web.select(\n",
    "    col(\"user_id\"),\n",
    "    col(\"age\"),\n",
    "    col(\"gender\"),\n",
    "    when((col(\"age\") >= 18) & (col(\"age\") <= 24), \"18-24\")\n",
    "        .when((col(\"age\") >= 25) & (col(\"age\") <= 34), \"25-34\")\n",
    "        .when((col(\"age\") >= 35) & (col(\"age\") <= 44), \"35-44\")\n",
    "        .when((col(\"age\") >= 45) & (col(\"age\") <= 54), \"45-54\")\n",
    "        .when((col(\"age\") >= 55) & (col(\"age\") <= 64), \"55-64\")\n",
    "        .when(col(\"age\") >= 65, \"65+\")\n",
    "        .otherwise(\"Unknown\")\n",
    "        .alias(\"age_group\"),\n",
    "    col(\"region\").alias(\"location\"),\n",
    "    expr(\"CASE WHEN rand() < 0.5 THEN 'Mobile' ELSE 'Desktop' END\").alias(\"device_type\")\n",
    ")\n",
    "\n",
    "display(user_df)\n",
    "\n",
    "upsert_to_delta(user_df, \"dim_user\", [\"user_id\"], zorder_cols=[\"user_id\"])"
   ]
  }
 ],
 "metadata": {
  "application/vnd.databricks.v1+notebook": {
   "computePreferences": null,
   "dashboards": [],
   "environmentMetadata": {
    "base_environment": "",
    "environment_version": "2"
   },
   "inputWidgetPreferences": null,
   "language": "python",
   "notebookMetadata": {
    "pythonIndentUnit": 4
   },
   "notebookName": "dim_user",
   "widgets": {}
  },
  "language_info": {
   "name": "python"
  }
 },
 "nbformat": 4,
 "nbformat_minor": 0
}
