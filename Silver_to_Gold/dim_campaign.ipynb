{
 "cells": [
  {
   "cell_type": "code",
   "execution_count": 0,
   "metadata": {
    "application/vnd.databricks.v1+cell": {
     "cellMetadata": {
      "byteLimit": 2048000,
      "rowLimit": 10000
     },
     "inputWidgets": {},
     "nuid": "1f8962b9-d23e-498a-820f-c3dc078c0071",
     "showTitle": false,
     "tableResultSettingsMap": {},
     "title": ""
    }
   },
   "outputs": [],
   "source": [
    "%run /Workspace/Users/vishal.krishnan@neudesic.com/Silver_to_Gold/utils"
   ]
  },
  {
   "cell_type": "code",
   "execution_count": 0,
   "metadata": {
    "application/vnd.databricks.v1+cell": {
     "cellMetadata": {
      "byteLimit": 2048000,
      "rowLimit": 10000
     },
     "inputWidgets": {},
     "nuid": "d8896935-b847-4d63-b65b-7438b82a3f5f",
     "showTitle": false,
     "tableResultSettingsMap": {},
     "title": ""
    }
   },
   "outputs": [],
   "source": [
    "# dim_campaign\n",
    "\n",
    "# Select required columns from each source table, rename to match final schema\n",
    "web_campaigns = df_web.select(\"campaign_id\", \"campaign_name\", \"campaign_start_date\", \"campaign_end_date\") \\\n",
    "    .withColumnRenamed(\"campaign_start_date\", \"start_date\") \\\n",
    "    .withColumnRenamed(\"campaign_end_date\", \"end_date\")\n",
    "\n",
    "meta_campaigns = df_meta.select(\"campaign_id\", \"campaign_name\", \"campaign_start_date\", \"campaign_end_date\") \\\n",
    "    .withColumnRenamed(\"campaign_start_date\", \"start_date\") \\\n",
    "    .withColumnRenamed(\"campaign_end_date\", \"end_date\")\n",
    "\n",
    "youtube_campaigns = df_youtube.select(\"campaign_id\", \"campaign_name\", \"campaign_start_date\", \"campaign_end_date\") \\\n",
    "    .withColumnRenamed(\"campaign_start_date\", \"start_date\") \\\n",
    "    .withColumnRenamed(\"campaign_end_date\", \"end_date\")\n",
    "\n",
    "# Union all sources and deduplicate\n",
    "all_campaigns = web_campaigns.unionByName(meta_campaigns).unionByName(youtube_campaigns).distinct()\n",
    "\n",
    "# Cast and enrich for final schema\n",
    "campaign_df = all_campaigns.select(\n",
    "    col(\"campaign_id\"),\n",
    "    col(\"campaign_name\"),\n",
    "    col(\"start_date\"),\n",
    "    col(\"end_date\"),\n",
    "    lit(\"Conversion\").alias(\"objective\"),\n",
    "    lit(75000.00).cast(DecimalType(12, 2)).alias(\"budget\"),\n",
    "    lit(\"video\").alias(\"creative_type\")\n",
    ").dropna(subset=[\"campaign_id\", \"campaign_name\", \"start_date\", \"end_date\"])\n",
    "\n",
    "display(campaign_df)\n",
    "# Upsert into Delta\n",
    "\n",
    "upsert_to_delta(campaign_df, \"dim_campaign\", [\"campaign_id\"], zorder_cols=[\"campaign_id\"])\n"
   ]
  }
 ],
 "metadata": {
  "application/vnd.databricks.v1+notebook": {
   "computePreferences": null,
   "dashboards": [],
   "environmentMetadata": {
    "base_environment": "",
    "environment_version": "2"
   },
   "inputWidgetPreferences": null,
   "language": "python",
   "notebookMetadata": {
    "pythonIndentUnit": 4
   },
   "notebookName": "dim_campaign",
   "widgets": {}
  },
  "language_info": {
   "name": "python"
  }
 },
 "nbformat": 4,
 "nbformat_minor": 0
}
