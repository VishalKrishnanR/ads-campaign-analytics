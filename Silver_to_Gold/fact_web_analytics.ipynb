{
 "cells": [
  {
   "cell_type": "code",
   "execution_count": 0,
   "metadata": {
    "application/vnd.databricks.v1+cell": {
     "cellMetadata": {
      "byteLimit": 2048000,
      "rowLimit": 10000
     },
     "inputWidgets": {},
     "nuid": "54b1f865-37ea-4b2b-b8ff-def7cf36d037",
     "showTitle": false,
     "tableResultSettingsMap": {},
     "title": ""
    }
   },
   "outputs": [],
   "source": [
    "%run /Workspace/Users/vishal.krishnan@neudesic.com/Silver_to_Gold/utils"
   ]
  },
  {
   "cell_type": "code",
   "execution_count": 0,
   "metadata": {
    "application/vnd.databricks.v1+cell": {
     "cellMetadata": {
      "byteLimit": 2048000,
      "rowLimit": 10000
     },
     "inputWidgets": {},
     "nuid": "7e5a2af5-d67a-4dc3-b977-17770b4330dd",
     "showTitle": false,
     "tableResultSettingsMap": {},
     "title": ""
    }
   },
   "outputs": [],
   "source": [
    "# fact_web_analytics\n",
    "df_web = df_web.drop(\"campaign_start_date\", \"campaign_end_date\")\n",
    "fact_web = df_web.select(\n",
    "    \"*\",\n",
    "    (unix_timestamp(\"session_end\") - unix_timestamp(\"session_start\")).alias(\"duration_seconds\"),\n",
    "    col(\"bounce\").alias(\"is_bounce\"),\n",
    ")\n",
    "display(fact_web)\n",
    "\n",
    "upsert_to_delta(fact_web, \"fact_web_analytics\", [\"session_id\"], zorder_cols=[\"session_id\"])\n"
   ]
  }
 ],
 "metadata": {
  "application/vnd.databricks.v1+notebook": {
   "computePreferences": null,
   "dashboards": [],
   "environmentMetadata": {
    "base_environment": "",
    "environment_version": "2"
   },
   "inputWidgetPreferences": null,
   "language": "python",
   "notebookMetadata": {
    "pythonIndentUnit": 4
   },
   "notebookName": "fact_web_analytics",
   "widgets": {}
  },
  "language_info": {
   "name": "python"
  }
 },
 "nbformat": 4,
 "nbformat_minor": 0
}
